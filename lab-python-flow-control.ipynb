{
 "cells": [
  {
   "cell_type": "markdown",
   "id": "d3bfc191-8885-42ee-b0a0-bbab867c6f9f",
   "metadata": {
    "tags": []
   },
   "source": [
    "# Lab | Flow Control"
   ]
  },
  {
   "cell_type": "markdown",
   "id": "3851fcd1-cf98-4653-9c89-e003b7ec9400",
   "metadata": {},
   "source": [
    "## Exercise: Managing Customer Orders Optimized\n",
    "\n",
    "In the last lab, you were starting an online store that sells various products. To ensure smooth operations, you developed a program that manages customer orders and inventory.\n",
    "\n",
    "You did so without using flow control. Let's go a step further and improve this code.\n",
    "\n",
    "Follow the steps below to complete the exercise:\n",
    "\n",
    "1. Look at your code from the lab data structures, and improve repeated code with loops.\n",
    "\n",
    "2. Instead of asking the user to input the name of three products that a customer wants to order, do the following:\n",
    "    \n",
    "    a. Prompt the user to enter the name of a product that a customer wants to order.\n",
    "    \n",
    "    b. Add the product name to the \"customer_orders\" set.\n",
    "    \n",
    "    c. Ask the user if they want to add another product (yes/no).\n",
    "    \n",
    "    d. Continue the loop until the user does not want to add another product.\n",
    "\n",
    "3. Instead of updating the inventory by subtracting 1 from the quantity of each product, only do it for  the products that were ordered (those in \"customer_orders\")."
   ]
  },
  {
   "cell_type": "code",
   "execution_count": 3,
   "id": "657d71fa",
   "metadata": {},
   "outputs": [
    {
     "name": "stdout",
     "output_type": "stream",
     "text": [
      "<class 'dict'>\n",
      "How many t-shirt do we have?2\n",
      "How many mug do we have?3\n",
      "How many hat do we have?4\n",
      "How many book do we have?5\n",
      "How many keychain do we have?6\n",
      "What does the client wants to order from our inventory? mug\n",
      "Do you want to add another product?yes\n",
      "What does the client wants to order from our inventory? hat\n",
      "Do you want to add another product?no\n",
      "The customer ordered:  {'hat', 'mug'}\n",
      "Order Statistics: \n",
      "Total Products Ordered:  2\n",
      "Percentage of Products Ordered:  10.0  %\n",
      "Inventory for ordered items:\n",
      "hat: 3\n",
      "mug: 2\n"
     ]
    }
   ],
   "source": [
    "products = [\"t-shirt\", \"mug\", \"hat\", \"book\", \"keychain\"]\n",
    "inventory = {}\n",
    "print(type(inventory))\n",
    "\n",
    "for item in products:\n",
    "    inventory[item] = input(f\"How many {item} do we have?\")\n",
    "inventory\n",
    "\n",
    "customer_orders = set()\n",
    "\n",
    "x = \"yes\"\n",
    "\n",
    "while x == \"yes\":\n",
    "    order = input(\"What does the client wants to order from our inventory? \")\n",
    "    customer_orders.add(order)\n",
    "    x = input(\"Do you want to add another product?\")\n",
    "\n",
    "print(\"The customer ordered: \", customer_orders)\n",
    "    \n",
    "total_products_ordered = int(len(customer_orders))\n",
    "\n",
    "\n",
    "for item, quantity in inventory.items():\n",
    "    if isinstance(quantity, str):\n",
    "        inventory[item] = int(quantity)\n",
    "\n",
    "percentage_products_ordered = (total_products_ordered / sum(inventory.values()))*100\n",
    "\n",
    "print(\"Order Statistics: \")\n",
    "print(\"Total Products Ordered: \", total_products_ordered)\n",
    "print(\"Percentage of Products Ordered: \", percentage_products_ordered, \" %\")\n",
    "\n",
    "\n",
    "print(\"Inventory for ordered items:\")\n",
    "for ordered_item in customer_orders:\n",
    "    if ordered_item in inventory and inventory[ordered_item] > 0:\n",
    "        inventory[ordered_item] -= 1\n",
    "        print(f\"{ordered_item}: {inventory[ordered_item]}\")\n",
    "        "
   ]
  },
  {
   "cell_type": "code",
   "execution_count": null,
   "id": "f609cae9",
   "metadata": {},
   "outputs": [],
   "source": []
  }
 ],
 "metadata": {
  "kernelspec": {
   "display_name": "Python 3 (ipykernel)",
   "language": "python",
   "name": "python3"
  },
  "language_info": {
   "codemirror_mode": {
    "name": "ipython",
    "version": 3
   },
   "file_extension": ".py",
   "mimetype": "text/x-python",
   "name": "python",
   "nbconvert_exporter": "python",
   "pygments_lexer": "ipython3",
   "version": "3.11.5"
  }
 },
 "nbformat": 4,
 "nbformat_minor": 5
}
